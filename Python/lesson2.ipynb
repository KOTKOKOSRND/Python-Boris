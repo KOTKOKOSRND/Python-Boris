{
 "cells": [
  {
   "cell_type": "markdown",
   "metadata": {},
   "source": [
    "### !pip freeze - для провреки пакетов\n",
    "### !pip install flake8-variables-names\n",
    "### !pip install flake8-functions-names\n",
    "### !pip install flake8-builtins\n",
    "### !pip install flake8-bugbear\n",
    "### !pip install pep8-naming\n",
    "### установка flake8 "
   ]
  },
  {
   "cell_type": "markdown",
   "metadata": {},
   "source": [
    " линтер- интрумент  анализща исходного кода который использщуется ошибьок и не соответстваия стилю кодирования\n",
    " flake8-линтер \n",
    " black(шифт+альт+F) -  интсрумент автофаорматирования кода по линтеру \n",
    " \n",
    "  "
   ]
  },
  {
   "cell_type": "markdown",
   "metadata": {},
   "source": [
    "разаработка начинается с созданиния виртуального окружения \n",
    "для создания вертуальнокго окружения нам нужно использовать команду \n",
    "### python -m venv venv \n",
    "активация: \n",
    "### venv\\sc+tab\\a+tab\n",
    "виртуальное оркужение это обособелная среда где крутитсья питон \n",
    " \n",
    " \n",
    "### для того чтоб выгрузить зависимотси проекта в файл мы используем команду: \n",
    "### pip freeze > requirements.txt\n",
    "эту команду использую когда отдаю проект \n",
    "как происходит установка зависимости \n",
    "### pip install -r requirements.txt"
   ]
  },
  {
   "cell_type": "code",
   "execution_count": null,
   "metadata": {},
   "outputs": [],
   "source": [
    "!pip install -r requirements.txt\n"
   ]
  },
  {
   "cell_type": "code",
   "execution_count": 1,
   "metadata": {},
   "outputs": [
    {
     "name": "stdout",
     "output_type": "stream",
     "text": [
      "asgiref==3.7.2\n",
      "asttokens==2.2.1\n",
      "attrs==23.1.0\n",
      "backcall==0.2.0\n",
      "blinker==1.6.2\n",
      "click==8.1.3\n",
      "colorama==0.4.6\n",
      "comm==0.1.3\n",
      "debugpy==1.6.7\n",
      "decorator==5.1.1\n",
      "Django==4.2.2\n",
      "executing==1.2.0\n",
      "flake8==6.0.0\n",
      "flake8-bugbear==23.6.5\n",
      "flake8-builtins==2.1.0\n",
      "flake8-functions-names==0.4.0\n",
      "flake8-variables-names==0.0.6\n",
      "Flask==2.3.2\n",
      "ipykernel==6.24.0\n",
      "ipython==8.14.0\n",
      "itsdangerous==2.1.2\n",
      "jedi==0.18.2\n",
      "Jinja2==3.1.2\n",
      "jupyter_client==8.3.0\n",
      "jupyter_core==5.3.1\n",
      "MarkupSafe==2.1.3\n",
      "matplotlib-inline==0.1.6\n",
      "mccabe==0.7.0\n",
      "nest-asyncio==1.5.6\n",
      "packaging==23.1\n",
      "parso==0.8.3\n",
      "pep8-naming==0.13.3\n",
      "pickleshare==0.7.5\n",
      "platformdirs==3.8.1\n",
      "prompt-toolkit==3.0.39\n",
      "psutil==5.9.5\n",
      "pure-eval==0.2.2\n",
      "pycodestyle==2.10.0\n",
      "pyflakes==3.0.1\n",
      "Pygments==2.15.1\n",
      "PyQt5==5.15.9\n",
      "PyQt5-Qt5==5.15.2\n",
      "PyQt5-sip==12.12.1\n",
      "python-dateutil==2.8.2\n",
      "pywin32==306\n",
      "pyzmq==25.1.0\n",
      "six==1.16.0\n",
      "sqlparse==0.4.4\n",
      "stack-data==0.6.2\n",
      "tornado==6.3.2\n",
      "traitlets==5.9.0\n",
      "tzdata==2023.3\n",
      "wcwidth==0.2.6\n",
      "Werkzeug==2.3.5\n"
     ]
    }
   ],
   "source": [
    "!pip freeze"
   ]
  },
  {
   "cell_type": "markdown",
   "metadata": {},
   "source": []
  },
  {
   "cell_type": "code",
   "execution_count": null,
   "metadata": {},
   "outputs": [],
   "source": [
    "11111010₂ = (-1) × 2^7 + 1 × 2^6 + 1 × 2^5 + 1 × 2^4 + 1 × 2^3 + 0 × 2^2 + 1 × 2^1 + 0 × 2^0\n",
    "          = -128 + 64 + 32 + 16 + 8 + 0 + 2 + 0\n",
    "          = -6\n"
   ]
  },
  {
   "cell_type": "code",
   "execution_count": null,
   "metadata": {},
   "outputs": [],
   "source": [
    "КОММИТ ОТДАЙ! ЖУРНАЛ ЗАПОЛНИ"
   ]
  }
 ],
 "metadata": {
  "kernelspec": {
   "display_name": "Python 3",
   "language": "python",
   "name": "python3"
  },
  "language_info": {
   "codemirror_mode": {
    "name": "ipython",
    "version": 3
   },
   "file_extension": ".py",
   "mimetype": "text/x-python",
   "name": "python",
   "nbconvert_exporter": "python",
   "pygments_lexer": "ipython3",
   "version": "3.11.4"
  },
  "orig_nbformat": 4
 },
 "nbformat": 4,
 "nbformat_minor": 2
}
