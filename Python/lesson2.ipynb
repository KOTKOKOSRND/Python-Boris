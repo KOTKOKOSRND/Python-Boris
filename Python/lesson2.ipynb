{
 "cells": [
  {
   "cell_type": "markdown",
   "metadata": {},
   "source": [
    " линтер- интрумент  анализща исходного кода который использщуется ошибьок и не соответстваия стилю кодирования\n",
    " flake8-линтер \n",
    " black(шифт+альт+F) -  интсрумент автофаорматирования кода по линтеру \n",
    " \n",
    "  "
   ]
  },
  {
   "cell_type": "markdown",
   "metadata": {},
   "source": [
    "разаработка начинается с созданиния виртуального окружения \n",
    "для создания вертуальнокго окружения нам нужно использовать команду \n",
    "### python -m venv venv \n",
    "активация: \n",
    "### venv\\sc+tab\\a+tab\n",
    "виртуальное оркужение это обособелная среда где крутитсья питон \n",
    " \n",
    " \n",
    "### для того чтоб выгрузить зависимотси проекта в файл мы используем команду: \n",
    "### pip freeze > requirements.txt\n",
    "эту команду использую когда отдаю проект \n",
    "как происходит установка зависимости \n",
    "### pip install -r requirements.txt"
   ]
  },
  {
   "cell_type": "code",
   "execution_count": 3,
   "metadata": {},
   "outputs": [
    {
     "name": "stdout",
     "output_type": "stream",
     "text": [
      "Requirement already satisfied: asttokens==2.2.1 in c:\\users\\user\\documents\\github\\python-boris\\venv\\lib\\site-packages (from -r requirements.txt (line 1)) (2.2.1)\n",
      "Requirement already satisfied: backcall==0.2.0 in c:\\users\\user\\documents\\github\\python-boris\\venv\\lib\\site-packages (from -r requirements.txt (line 2)) (0.2.0)\n",
      "Requirement already satisfied: colorama==0.4.6 in c:\\users\\user\\documents\\github\\python-boris\\venv\\lib\\site-packages (from -r requirements.txt (line 3)) (0.4.6)\n",
      "Requirement already satisfied: comm==0.1.3 in c:\\users\\user\\documents\\github\\python-boris\\venv\\lib\\site-packages (from -r requirements.txt (line 4)) (0.1.3)\n",
      "Requirement already satisfied: debugpy==1.6.7 in c:\\users\\user\\documents\\github\\python-boris\\venv\\lib\\site-packages (from -r requirements.txt (line 5)) (1.6.7)\n",
      "Requirement already satisfied: decorator==5.1.1 in c:\\users\\user\\documents\\github\\python-boris\\venv\\lib\\site-packages (from -r requirements.txt (line 6)) (5.1.1)\n",
      "Requirement already satisfied: executing==1.2.0 in c:\\users\\user\\documents\\github\\python-boris\\venv\\lib\\site-packages (from -r requirements.txt (line 7)) (1.2.0)\n",
      "Requirement already satisfied: ipykernel==6.24.0 in c:\\users\\user\\documents\\github\\python-boris\\venv\\lib\\site-packages (from -r requirements.txt (line 8)) (6.24.0)\n",
      "Requirement already satisfied: ipython==8.14.0 in c:\\users\\user\\documents\\github\\python-boris\\venv\\lib\\site-packages (from -r requirements.txt (line 9)) (8.14.0)\n",
      "Requirement already satisfied: jedi==0.18.2 in c:\\users\\user\\documents\\github\\python-boris\\venv\\lib\\site-packages (from -r requirements.txt (line 10)) (0.18.2)\n",
      "Requirement already satisfied: jupyter_client==8.3.0 in c:\\users\\user\\documents\\github\\python-boris\\venv\\lib\\site-packages (from -r requirements.txt (line 11)) (8.3.0)\n",
      "Requirement already satisfied: jupyter_core==5.3.1 in c:\\users\\user\\documents\\github\\python-boris\\venv\\lib\\site-packages (from -r requirements.txt (line 12)) (5.3.1)\n",
      "Requirement already satisfied: matplotlib-inline==0.1.6 in c:\\users\\user\\documents\\github\\python-boris\\venv\\lib\\site-packages (from -r requirements.txt (line 13)) (0.1.6)\n",
      "Requirement already satisfied: nest-asyncio==1.5.6 in c:\\users\\user\\documents\\github\\python-boris\\venv\\lib\\site-packages (from -r requirements.txt (line 14)) (1.5.6)\n",
      "Requirement already satisfied: numpy==1.25.0 in c:\\users\\user\\documents\\github\\python-boris\\venv\\lib\\site-packages (from -r requirements.txt (line 15)) (1.25.0)\n",
      "Requirement already satisfied: packaging==23.1 in c:\\users\\user\\documents\\github\\python-boris\\venv\\lib\\site-packages (from -r requirements.txt (line 16)) (23.1)\n",
      "Requirement already satisfied: parso==0.8.3 in c:\\users\\user\\documents\\github\\python-boris\\venv\\lib\\site-packages (from -r requirements.txt (line 17)) (0.8.3)\n",
      "Requirement already satisfied: pickleshare==0.7.5 in c:\\users\\user\\documents\\github\\python-boris\\venv\\lib\\site-packages (from -r requirements.txt (line 18)) (0.7.5)\n",
      "Requirement already satisfied: platformdirs==3.8.1 in c:\\users\\user\\documents\\github\\python-boris\\venv\\lib\\site-packages (from -r requirements.txt (line 19)) (3.8.1)\n",
      "Requirement already satisfied: prompt-toolkit==3.0.39 in c:\\users\\user\\documents\\github\\python-boris\\venv\\lib\\site-packages (from -r requirements.txt (line 20)) (3.0.39)\n",
      "Requirement already satisfied: psutil==5.9.5 in c:\\users\\user\\documents\\github\\python-boris\\venv\\lib\\site-packages (from -r requirements.txt (line 21)) (5.9.5)\n",
      "Requirement already satisfied: pure-eval==0.2.2 in c:\\users\\user\\documents\\github\\python-boris\\venv\\lib\\site-packages (from -r requirements.txt (line 22)) (0.2.2)\n",
      "Requirement already satisfied: Pygments==2.15.1 in c:\\users\\user\\documents\\github\\python-boris\\venv\\lib\\site-packages (from -r requirements.txt (line 23)) (2.15.1)\n",
      "Requirement already satisfied: python-dateutil==2.8.2 in c:\\users\\user\\documents\\github\\python-boris\\venv\\lib\\site-packages (from -r requirements.txt (line 24)) (2.8.2)\n",
      "Requirement already satisfied: pywin32==306 in c:\\users\\user\\documents\\github\\python-boris\\venv\\lib\\site-packages (from -r requirements.txt (line 25)) (306)\n",
      "Requirement already satisfied: pyzmq==25.1.0 in c:\\users\\user\\documents\\github\\python-boris\\venv\\lib\\site-packages (from -r requirements.txt (line 26)) (25.1.0)\n",
      "Requirement already satisfied: six==1.16.0 in c:\\users\\user\\documents\\github\\python-boris\\venv\\lib\\site-packages (from -r requirements.txt (line 27)) (1.16.0)\n",
      "Requirement already satisfied: stack-data==0.6.2 in c:\\users\\user\\documents\\github\\python-boris\\venv\\lib\\site-packages (from -r requirements.txt (line 28)) (0.6.2)\n",
      "Requirement already satisfied: tornado==6.3.2 in c:\\users\\user\\documents\\github\\python-boris\\venv\\lib\\site-packages (from -r requirements.txt (line 29)) (6.3.2)\n",
      "Requirement already satisfied: traitlets==5.9.0 in c:\\users\\user\\documents\\github\\python-boris\\venv\\lib\\site-packages (from -r requirements.txt (line 30)) (5.9.0)\n",
      "Requirement already satisfied: wcwidth==0.2.6 in c:\\users\\user\\documents\\github\\python-boris\\venv\\lib\\site-packages (from -r requirements.txt (line 31)) (0.2.6)\n"
     ]
    }
   ],
   "source": [
    "!pip install -r requirements.txt\n"
   ]
  },
  {
   "cell_type": "markdown",
   "metadata": {},
   "source": []
  }
 ],
 "metadata": {
  "kernelspec": {
   "display_name": "Python 3",
   "language": "python",
   "name": "python3"
  },
  "language_info": {
   "codemirror_mode": {
    "name": "ipython",
    "version": 3
   },
   "file_extension": ".py",
   "mimetype": "text/x-python",
   "name": "python",
   "nbconvert_exporter": "python",
   "pygments_lexer": "ipython3",
   "version": "3.11.4"
  },
  "orig_nbformat": 4
 },
 "nbformat": 4,
 "nbformat_minor": 2
}
